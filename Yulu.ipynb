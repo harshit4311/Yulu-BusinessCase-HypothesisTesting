{
  "nbformat": 4,
  "nbformat_minor": 0,
  "metadata": {
    "colab": {
      "provenance": []
    },
    "kernelspec": {
      "name": "python3",
      "display_name": "Python 3"
    },
    "language_info": {
      "name": "python"
    }
  },
  "cells": [
    {
      "cell_type": "code",
      "execution_count": 62,
      "metadata": {
        "colab": {
          "base_uri": "https://localhost:8080/"
        },
        "id": "SPdoFNyXIjtt",
        "outputId": "c3b6e925-7c68-4ee5-a868-f0390fe3f380"
      },
      "outputs": [
        {
          "output_type": "stream",
          "name": "stdout",
          "text": [
            "done\n"
          ]
        }
      ],
      "source": [
        "import numpy as np\n",
        "import pandas as pd\n",
        "import matplotlib.pyplot as plt\n",
        "import seaborn as sns\n",
        "from scipy.stats import mannwhitneyu\n",
        "from scipy.stats import kruskal\n",
        "from scipy.stats import chi2_contingency\n",
        "\n",
        "print('done')"
      ]
    },
    {
      "cell_type": "code",
      "source": [
        "url = \"https://d2beiqkhq929f0.cloudfront.net/public_assets/assets/000/001/428/original/bike_sharing.csv?1642089089\"\n",
        "df = pd.read_csv(url)\n",
        "display(df.head())\n",
        "print() # Leave a line\n",
        "display(df.info())"
      ],
      "metadata": {
        "id": "kGo6VwKqJByv"
      },
      "execution_count": null,
      "outputs": []
    },
    {
      "cell_type": "code",
      "source": [
        "df.describe()"
      ],
      "metadata": {
        "id": "8K0tFZHpM8a8"
      },
      "execution_count": null,
      "outputs": []
    },
    {
      "cell_type": "code",
      "source": [
        "# Plot histogram for the 'count' variable\n",
        "plt.figure(figsize=(8, 6))\n",
        "plt.hist(df['count'], bins=30, color='skyblue')\n",
        "plt.title('Histogram of Bike Rental Counts')\n",
        "plt.xlabel('Count')\n",
        "plt.ylabel('Frequency')\n",
        "plt.grid(True)\n",
        "plt.show()\n",
        "\n",
        "# Plot histogram for the 'temp' variable (temperature)\n",
        "plt.figure(figsize=(8, 6))\n",
        "plt.hist(df['temp'], bins=30, color='lightgreen')\n",
        "plt.title('Histogram of Temperature')\n",
        "plt.xlabel('Temperature')\n",
        "plt.ylabel('Frequency')\n",
        "plt.grid(True)\n",
        "plt.show()\n",
        "\n",
        "# Plot histogram for the 'weather' variable\n",
        "plt.figure(figsize=(8, 6))\n",
        "sns.countplot(x='weather', data=df, palette='viridis')\n",
        "plt.title('Distribution of Weather Conditions')\n",
        "plt.xlabel('Weather')\n",
        "plt.ylabel('Count')\n",
        "plt.show()\n",
        "\n",
        "# Plot histogram for the 'season' variable\n",
        "plt.figure(figsize=(8, 6))\n",
        "sns.countplot(x='season', data=df, palette='muted')\n",
        "plt.title('Distribution of Seasons')\n",
        "plt.xlabel('Season')\n",
        "plt.ylabel('Count')\n",
        "plt.show()"
      ],
      "metadata": {
        "id": "_f13XSWDO9bx"
      },
      "execution_count": null,
      "outputs": []
    },
    {
      "cell_type": "markdown",
      "source": [
        "Distribution of columns"
      ],
      "metadata": {
        "id": "0M8Ed47LPkK8"
      }
    },
    {
      "cell_type": "code",
      "source": [
        "columns = ['season', 'holiday', 'workingday', 'weather']\n",
        "fig, ax = plt.subplots(2,2,figsize=(12,8))\n",
        "fig.tight_layout(pad=5.0)\n",
        "i = 0\n",
        "j = 0\n",
        "for column in columns:\n",
        "    plot_df = sns.countplot(data=df,x=column,ax=ax[i,j])\n",
        "    plot_df.set_title(str.capitalize(column))\n",
        "    j = j + 1\n",
        "    if j % 2 == 0 : i = i + 1; j = 0"
      ],
      "metadata": {
        "id": "cBXIR8ObPmsA"
      },
      "execution_count": null,
      "outputs": []
    },
    {
      "cell_type": "code",
      "source": [
        "columns = ['atemp','humidity','windspeed','count']\n",
        "fig, ax = plt.subplots(2,2,figsize=(12,8))\n",
        "i = 0\n",
        "j= 0\n",
        "for column in columns:\n",
        "    plot_df = sns.boxplot(data=df,y=column,ax=ax[i,j])\n",
        "    plot_df.set_title(str.capitalize(column))\n",
        "    j = j + 1\n",
        "    if j % 2 == 0 : i = i + 1; j = 0"
      ],
      "metadata": {
        "id": "laFJPDGkQOuG"
      },
      "execution_count": null,
      "outputs": []
    },
    {
      "cell_type": "markdown",
      "source": [
        "- Season is uniformly distributed.\n",
        "- Sales are higher on working days.\n",
        "- Weather is clear most of the time.\n",
        "- Generally, people don't step out/take Yulu when the weather is bad.\n",
        "- Humidity and atemp have a normal distribution."
      ],
      "metadata": {
        "id": "b_okxlOlRBS8"
      }
    },
    {
      "cell_type": "markdown",
      "source": [
        "# Correlation Analysis"
      ],
      "metadata": {
        "id": "oCR7MY9MRvrL"
      }
    },
    {
      "cell_type": "code",
      "source": [
        "# Plotting the heatma\n",
        "plt.figure(figsize=(10, 8))\n",
        "sns.heatmap(corr_matrix, annot=True, cmap='coolwarm', fmt=\".2f\", linewidths=0.5)\n",
        "plt.title('Correlation Heatmap')\n",
        "plt.show()"
      ],
      "metadata": {
        "id": "2w8AGsm4Ryql"
      },
      "execution_count": null,
      "outputs": []
    },
    {
      "cell_type": "markdown",
      "source": [
        "- A negative correlation between the \"count\" variable and \"humidity\" means that as humidity increases, the count of bike rentals tends to decrease, and vice versa.\n",
        "\n",
        "- A positive correlation between the \"count\" variable and \"atemp\" (apparent temperature) indicates that as the apparent temperature increases, the count of bike rentals tends to increase as well, and vice versa.\n",
        "\n",
        "Therefore, it can be said that people use Yulu when when the temperature is high and humidity is low."
      ],
      "metadata": {
        "id": "tngxetZiToyD"
      }
    },
    {
      "cell_type": "markdown",
      "source": [
        "# Hyptothesis Testing"
      ],
      "metadata": {
        "id": "VIHQhlfSUWpP"
      }
    },
    {
      "cell_type": "markdown",
      "source": [
        "### 1. Does a working day affect the no.of electric cycles rented?"
      ],
      "metadata": {
        "id": "n10WuTbBUajt"
      }
    },
    {
      "cell_type": "markdown",
      "source": [
        "Let, H0: Working day has no effect on the number of electric cycles rented\n",
        "\n",
        "H1: Working day has effect on the number of electric cycles rented"
      ],
      "metadata": {
        "id": "a3SZJGiQU8Q4"
      }
    },
    {
      "cell_type": "code",
      "source": [
        "working_day = df.loc[df['workingday']==1,'count']\n",
        "non_working_day = df.loc[df['workingday']==0,'count']\n",
        "\n",
        "fig, ax = plt.subplots(1,2,figsize=(16,6))\n",
        "working_day_plot = sns.kdeplot(working_day,ax=ax[0])\n",
        "non_working_day_plot = sns.kdeplot(non_working_day,ax=ax[1])"
      ],
      "metadata": {
        "id": "LLYilw6RU9uz"
      },
      "execution_count": null,
      "outputs": []
    },
    {
      "cell_type": "code",
      "source": [
        "statistic, p_value = mannwhitneyu(working_day, non_working_day)\n",
        "print(\"Mann-Whitney U Test:\")\n",
        "print(\"Statistic:\", statistic)\n",
        "print(\"p-value:\", p_value)"
      ],
      "metadata": {
        "id": "BVeET4jYVJqX"
      },
      "execution_count": null,
      "outputs": []
    },
    {
      "cell_type": "markdown",
      "source": [
        "Since, the p-value obtained(0.9679) is much larger than 0.05, we fail to reject the null hypothesis.\n",
        "\n",
        "Therefore, based on the Mann-Whitney U test, there is **no sufficient evidence to conclude that there is a significant difference in bike rental counts between working days and non-working days in your dataset**.\n"
      ],
      "metadata": {
        "id": "x-zcU5CEWHda"
      }
    },
    {
      "cell_type": "markdown",
      "source": [
        "### 2. Is the no.of cycles rented similar or different in different seasons?"
      ],
      "metadata": {
        "id": "cwiD98DGWwpA"
      }
    },
    {
      "cell_type": "markdown",
      "source": [
        "Let, H0: Seasons has no effect on the number of electric cycles rented\n",
        "\n",
        "H1: Seasons has effect on the number of electric cycles rented"
      ],
      "metadata": {
        "id": "F-j-JnubXPmM"
      }
    },
    {
      "cell_type": "code",
      "source": [
        "spring = df.loc[df['season']==1,'count']\n",
        "summer = df.loc[df['season']==2,'count']\n",
        "fall = df.loc[df['season']==3,'count']\n",
        "winter = df.loc[df['season']==4,'count']\n",
        "fig, ax = plt.subplots(2,2,figsize=(12,8))\n",
        "sns.kdeplot(spring,ax=ax[0,0])\n",
        "sns.kdeplot(summer,ax=ax[0,1])\n",
        "sns.kdeplot(fall,ax=ax[1,0])\n",
        "sns.kdeplot(winter,ax=ax[1,1])"
      ],
      "metadata": {
        "id": "dH4eW05-Xd3A"
      },
      "execution_count": null,
      "outputs": []
    },
    {
      "cell_type": "code",
      "source": [
        "statistic, p_value = kruskal(spring, summer, fall, winter)\n",
        "\n",
        "print(\"Kruskal-Wallis H Test:\")\n",
        "print(\"Statistic:\", statistic)\n",
        "print(\"p-value:\", p_value)"
      ],
      "metadata": {
        "colab": {
          "base_uri": "https://localhost:8080/"
        },
        "id": "6j2YUQC4X3-c",
        "outputId": "f0edc094-a959-4c5d-e44a-1173140e032d"
      },
      "execution_count": 55,
      "outputs": [
        {
          "output_type": "stream",
          "name": "stdout",
          "text": [
            "Kruskal-Wallis H Test:\n",
            "Statistic: 699.6668548181988\n",
            "p-value: 2.479008372608633e-151\n"
          ]
        }
      ]
    },
    {
      "cell_type": "markdown",
      "source": [
        "\n",
        "A p-value of approximately\n",
        "2.48\n",
        "×\n",
        "1\n",
        "0\n",
        "−\n",
        "151\n",
        "2.48×10\n",
        "−151\n",
        "  is extremely small, indicating strong evidence against the null hypothesis.\n",
        "\n",
        "Therefore, season affects the no.of riders"
      ],
      "metadata": {
        "id": "7lkNAlPIYUnF"
      }
    },
    {
      "cell_type": "code",
      "source": [
        "season_grouped = pd.DataFrame(df.groupby('season')['count'].sum())\n",
        "sns.barplot(data=season_grouped,x=season_grouped.index,y='count')\n",
        "plt.xticks(range(4),['spring','summer','fall','winter'])"
      ],
      "metadata": {
        "id": "GM370ZOUYpiH"
      },
      "execution_count": null,
      "outputs": []
    },
    {
      "cell_type": "markdown",
      "source": [
        "The above graph shows that the max. amount of electric cycle usage is in the fall season"
      ],
      "metadata": {
        "id": "0AC1dGrBYuGe"
      }
    },
    {
      "cell_type": "markdown",
      "source": [
        "### 3. Does weather affect the no.of cycles rented?"
      ],
      "metadata": {
        "id": "1LbBN3JyY7Kh"
      }
    },
    {
      "cell_type": "markdown",
      "source": [
        "Let, H0: Weather has no affect on the number of electric cycles rented\n",
        "\n",
        "H1: Weather affects the number of electric cycles rented"
      ],
      "metadata": {
        "id": "i4IMpKlDZLgu"
      }
    },
    {
      "cell_type": "code",
      "source": [
        "clear = df.loc[df['weather']==1,'count']\n",
        "mist = df.loc[df['weather']==2,'count']\n",
        "light_rain = df.loc[df['weather']==3,'count']\n",
        "heavy_rain = df.loc[df['weather']==4,'count']\n",
        "fig, ax = plt.subplots(2,2,figsize=(12,8))\n",
        "sns.kdeplot(clear,ax=ax[0,0])\n",
        "sns.kdeplot(mist,ax=ax[0,1])\n",
        "sns.kdeplot(light_rain,ax=ax[1,0])\n",
        "sns.kdeplot(heavy_rain,ax=ax[1,1])"
      ],
      "metadata": {
        "id": "YAFNqSlsZW8e"
      },
      "execution_count": null,
      "outputs": []
    },
    {
      "cell_type": "code",
      "source": [
        "statistic, p_value = kruskal(clear, mist, light_rain, heavy_rain)\n",
        "\n",
        "print(\"Kruskal-Wallis H Test:\")\n",
        "print(\"Statistic:\", statistic)\n",
        "print(\"p-value:\", p_value)"
      ],
      "metadata": {
        "id": "ir__mewDZqV8"
      },
      "execution_count": null,
      "outputs": []
    },
    {
      "cell_type": "markdown",
      "source": [
        "A p-value of approximately\n",
        "3.50\n",
        "×\n",
        "1\n",
        "0\n",
        "−\n",
        "44\n",
        "3.50×10\n",
        "−44\n",
        "  is extremely small, indicating strong evidence against the null hypothesis.\n",
        "\n",
        "This means that weather conditions indeed affect electric cycle usage significantly.\n"
      ],
      "metadata": {
        "id": "NINgIcc8Zvq6"
      }
    },
    {
      "cell_type": "code",
      "source": [
        "weather_grouped = pd.DataFrame(df.groupby('weather')['count'].sum())\n",
        "sns.barplot(data=weather_grouped,x=weather_grouped.index,y='count')\n",
        "plt.xticks(range(4),['clear','mist','light rain','heavy rain'])"
      ],
      "metadata": {
        "id": "ZlnGeRXcaDPc"
      },
      "execution_count": null,
      "outputs": []
    },
    {
      "cell_type": "markdown",
      "source": [
        "The above graph the max. amount of electric cycle usage is when the weather is clear"
      ],
      "metadata": {
        "id": "9El6D2vYaGDt"
      }
    },
    {
      "cell_type": "markdown",
      "source": [
        "### 4. Is the weather dependent on season"
      ],
      "metadata": {
        "id": "YTZjDBwpaTwD"
      }
    },
    {
      "cell_type": "markdown",
      "source": [
        "Let, H0: Weather and Season are two independent columns\n",
        "\n",
        "H1: Weather and Season are two indifferent columns"
      ],
      "metadata": {
        "id": "a9wolnF_ahbk"
      }
    },
    {
      "cell_type": "code",
      "source": [
        "# Making a contingency table\n",
        "contingency_table = pd.crosstab(df['season'], df['weather'])\n",
        "\n",
        "# Perform Chi-Square test\n",
        "chi2, p_value, _, _ = chi2_contingency(contingency_table)\n",
        "\n",
        "print(\"Chi-Square Test:\")\n",
        "print(\"Chi2 statistic:\", chi2)\n",
        "print(\"p-value:\", p_value)"
      ],
      "metadata": {
        "colab": {
          "base_uri": "https://localhost:8080/"
        },
        "id": "nkU529NNan3B",
        "outputId": "c3e199f1-6417-43c4-8dee-ab1e63033e18"
      },
      "execution_count": 63,
      "outputs": [
        {
          "output_type": "stream",
          "name": "stdout",
          "text": [
            "Chi-Square Test:\n",
            "Chi2 statistic: 49.158655596893624\n",
            "p-value: 1.549925073686492e-07\n"
          ]
        }
      ]
    },
    {
      "cell_type": "markdown",
      "source": [
        "With a p-value of approximately\n",
        "1.55\n",
        "×\n",
        "1\n",
        "0\n",
        "−\n",
        "7\n",
        "1.55×10\n",
        "−7\n",
        " , we can reject the null hypothesis that there is no association between the variables 'season' and 'weather' with respect to the 'count' variable.\n",
        "\n",
        " It implies that the season and weather conditions do not occur independently concerning bike rental counts."
      ],
      "metadata": {
        "id": "QrUcw4jqbsUZ"
      }
    }
  ]
}